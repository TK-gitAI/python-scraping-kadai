{
  "nbformat": 4,
  "nbformat_minor": 0,
  "metadata": {
    "colab": {
      "private_outputs": true,
      "provenance": []
    },
    "kernelspec": {
      "name": "python3",
      "display_name": "Python 3"
    },
    "language_info": {
      "name": "python"
    }
  },
  "cells": [
    {
      "cell_type": "code",
      "execution_count": null,
      "metadata": {
        "id": "ah8NfJ73pdMk"
      },
      "outputs": [],
      "source": [
        "!pip install selenium"
      ]
    },
    {
      "cell_type": "code",
      "source": [
        "from selenium import webdriver\n",
        "from selenium.webdriver.common.by import By\n",
        "from selenium.webdriver.support.ui import WebDriverWait\n",
        "from selenium.webdriver.support import expected_conditions as EC\n",
        "from getpass import getpass\n",
        "from selenium.webdriver.common.by import By\n",
        "from selenium.webdriver.common.keys import Keys"
      ],
      "metadata": {
        "id": "cfpUJMYlqNS-"
      },
      "execution_count": null,
      "outputs": []
    },
    {
      "cell_type": "code",
      "source": [
        "# ヘッドレスモードで起動するためのオプションを設定\n",
        "chrome_options = webdriver.ChromeOptions()\n",
        "chrome_options.add_argument('--headless')\n",
        "chrome_options.add_argument('--no-sandbox')\n",
        "chrome_options.add_argument('--disable-dev-shm-usage')\n",
        "\n",
        "# Chromeを立ち上げる\n",
        "chrome_driver = webdriver.Chrome(options=chrome_options)"
      ],
      "metadata": {
        "id": "mqrBtZitqPVZ"
      },
      "execution_count": null,
      "outputs": []
    },
    {
      "cell_type": "code",
      "source": [
        "# TERAKOYAのトップページにアクセス\n",
        "chrome_driver.get('https://terakoya.sejuku.net/register')\n",
        "\n",
        "# 最大30秒間、ログインボタンが表示されるのを待つ\n",
        "wait = WebDriverWait(chrome_driver, 30)\n",
        "header_login_button = wait.until(\n",
        "    EC.visibility_of_element_located(\n",
        "        (By.CSS_SELECTOR,\n",
        "         '#root > header > div.sc-bhVsRh.hZBqIC')\n",
        "    )\n",
        ")\n",
        "\n",
        "# ログインボタンをクリックする\n",
        "header_login_button.click()"
      ],
      "metadata": {
        "id": "5AsLnSMFqaFS"
      },
      "execution_count": null,
      "outputs": []
    },
    {
      "cell_type": "code",
      "source": [
        "# メールアドレスとパスワードを入力する\n",
        "\n",
        "email_address = input('メールアドレスを入力してください: ')\n",
        "password = getpass('パスワードを入力してください: ')"
      ],
      "metadata": {
        "id": "wKMU4Hu5qmSv"
      },
      "execution_count": null,
      "outputs": []
    },
    {
      "cell_type": "code",
      "source": [
        "# メールアドレスとパスワードの入力欄を見つける\n",
        "\n",
        "parent_element = chrome_driver.find_element(By.CSS_SELECTOR, '.sc-kNOymR.TvzZn')\n",
        "email_input = parent_element.find_element(By.NAME, 'email')\n",
        "password_input = parent_element.find_element(By.NAME, 'password')"
      ],
      "metadata": {
        "id": "c658VIlmqoAw"
      },
      "execution_count": null,
      "outputs": []
    },
    {
      "cell_type": "code",
      "source": [
        "# メールアドレスとパスワードを設定\n",
        "\n",
        "email_input.send_keys(email_address)\n",
        "password_input.send_keys(password)"
      ],
      "metadata": {
        "id": "uuptNyr5qpof"
      },
      "execution_count": null,
      "outputs": []
    },
    {
      "cell_type": "code",
      "source": [
        "# ログインボタンをクリックしてログイン\n",
        "\n",
        "form_login_button = wait.until(\n",
        "    EC.visibility_of_element_located(\n",
        "        (By.CSS_SELECTOR,\n",
        "         '#root > div.sc-kNOymR.TvzZn > div.sc-lgpSej.gsAReM > '\n",
        "         'div.sc-dntSTA.dQOsDP > button')\n",
        "    )\n",
        ")\n",
        "\n",
        "form_login_button.click()"
      ],
      "metadata": {
        "id": "C18Imtf8qrdz"
      },
      "execution_count": null,
      "outputs": []
    },
    {
      "cell_type": "code",
      "source": [
        "# ログイン後、要素が読み込まれるまで待つ\n",
        "wait.until(EC.visibility_of_element_located((By.CSS_SELECTOR, 'nav > img ')))"
      ],
      "metadata": {
        "id": "zUw4YJ6zqt63"
      },
      "execution_count": null,
      "outputs": []
    },
    {
      "cell_type": "code",
      "source": [
        "chrome_driver.get('https://terakoya.sejuku.net/account/profile')\n",
        "wait = WebDriverWait(chrome_driver, 30)\n",
        "\n",
        "# 編集ボタンが含まれるブロックを取得\n",
        "edit_block = wait.until(EC.visibility_of_element_located(\n",
        "    (By.CSS_SELECTOR, '#root > div.sc-BvjM.dayVoP > div > div > main > div > div.sc-lfIzcI.gdQipL')\n",
        "))\n",
        "\n",
        "# その中にある編集ボタンを探してクリック\n",
        "edit_button = edit_block.find_element(By.TAG_NAME, 'button')\n",
        "edit_button.click()\n",
        "\n",
        "# 編集モードに切り替わるのを待つ（textareaが現れる）\n",
        "profile_textarea = wait.until(EC.visibility_of_element_located(\n",
        "    (By.CSS_SELECTOR, '#root > div.sc-BvjM.dayVoP > div > div > main > div > div.sc-lfIzcI.gdQipL > div:nth-child(10) > div.sc-CqUPI.bZqAix > textarea')\n",
        "))\n",
        "\n",
        "# テキストを書き換える\n",
        "profile_textarea.clear()\n",
        "profile_textarea.send_keys('プログラミング学習中です！今はスクレイピングに挑戦しています！')"
      ],
      "metadata": {
        "id": "p6cT23CSquYH"
      },
      "execution_count": null,
      "outputs": []
    },
    {
      "cell_type": "code",
      "source": [
        "# 最大30秒間、更新ボタンが表示されるのを待つ\n",
        "wait = WebDriverWait(chrome_driver, 30)\n",
        "header_kousin_button = wait.until(\n",
        "    EC.visibility_of_element_located(\n",
        "        (By.CSS_SELECTOR,\n",
        "         '#root > div.sc-BvjM.dayVoP > div > div > main > div > div.sc-lfIzcI.gdQipL > button.sc-dTvVRJ.bHRgJQ.sc-hZdRFE.fLGwDp')\n",
        "    )\n",
        ")\n",
        "\n",
        "# 更新ボタンをクリックする\n",
        "header_kousin_button.click()"
      ],
      "metadata": {
        "id": "l3NKJr3Ht_bh"
      },
      "execution_count": null,
      "outputs": []
    }
  ]
}