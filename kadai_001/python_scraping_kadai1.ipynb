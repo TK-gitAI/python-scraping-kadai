{
  "nbformat": 4,
  "nbformat_minor": 0,
  "metadata": {
    "colab": {
      "private_outputs": true,
      "provenance": []
    },
    "kernelspec": {
      "name": "python3",
      "display_name": "Python 3"
    },
    "language_info": {
      "name": "python"
    }
  },
  "cells": [
    {
      "cell_type": "code",
      "source": [
        "import requests\n",
        "from bs4 import BeautifulSoup"
      ],
      "metadata": {
        "id": "IMueTtLp73MN"
      },
      "execution_count": null,
      "outputs": []
    },
    {
      "cell_type": "code",
      "source": [
        "url = 'https://news.yahoo.co.jp/articles/fd87947d040e046dd341f1abd84a11527b4132d4'"
      ],
      "metadata": {
        "id": "ShwnRW0255kR"
      },
      "execution_count": null,
      "outputs": []
    },
    {
      "cell_type": "code",
      "source": [
        "response = requests.get(url)"
      ],
      "metadata": {
        "id": "cbp5mWuw57-2"
      },
      "execution_count": null,
      "outputs": []
    },
    {
      "cell_type": "code",
      "source": [
        "soup = BeautifulSoup(response.text, 'html.parser')"
      ],
      "metadata": {
        "id": "mp6yeQaK6Dyp"
      },
      "execution_count": null,
      "outputs": []
    },
    {
      "cell_type": "code",
      "source": [
        "paragraphs = soup.select('article p')\n",
        "article_text = '\\n'.join(p.get_text(strip=True) for p in paragraphs)"
      ],
      "metadata": {
        "id": "Dgss3a-C65MV"
      },
      "execution_count": null,
      "outputs": []
    },
    {
      "cell_type": "code",
      "source": [
        "print(article_text)"
      ],
      "metadata": {
        "id": "raUPvZUh7LId"
      },
      "execution_count": null,
      "outputs": []
    }
  ]
}