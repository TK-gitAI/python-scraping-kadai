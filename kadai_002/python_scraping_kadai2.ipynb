{
  "nbformat": 4,
  "nbformat_minor": 0,
  "metadata": {
    "colab": {
      "private_outputs": true,
      "provenance": []
    },
    "kernelspec": {
      "name": "python3",
      "display_name": "Python 3"
    },
    "language_info": {
      "name": "python"
    }
  },
  "cells": [
    {
      "cell_type": "code",
      "execution_count": null,
      "metadata": {
        "collapsed": true,
        "id": "-HsvLuBSCVmN"
      },
      "outputs": [],
      "source": [
        "!pip install requests"
      ]
    },
    {
      "cell_type": "code",
      "source": [
        "import requests\n",
        "import pprint\n",
        "from getpass import getpass"
      ],
      "metadata": {
        "id": "eUce802DD6f6"
      },
      "execution_count": null,
      "outputs": []
    },
    {
      "cell_type": "code",
      "source": [
        "# APIキーを指定\n",
        "api_key = getpass('APIキーを入力してください: ')"
      ],
      "metadata": {
        "id": "4ES5ykMxEHW7"
      },
      "execution_count": null,
      "outputs": []
    },
    {
      "cell_type": "code",
      "source": [
        "# 検索キーワードを変数search_wordに格納\n",
        "search_word = input('検索キーワードを入力してください: ')"
      ],
      "metadata": {
        "id": "VOs9LSb6ErEv"
      },
      "execution_count": null,
      "outputs": []
    },
    {
      "cell_type": "code",
      "source": [
        "# 1. 緯度経度の取得\n",
        "geo_url = \"https://maps.googleapis.com/maps/api/geocode/json\"\n",
        "geo_params = {\"address\": search_word, \"key\": api_key}\n",
        "geo_res = requests.get(geo_url, params=geo_params)\n",
        "geo_data = geo_res.json()\n",
        "\n",
        "\n",
        "location = geo_data[\"results\"][0][\"geometry\"][\"location\"]\n",
        "lat, lng = location[\"lat\"], location[\"lng\"]\n",
        "\n",
        "# 2. レストラン情報の取得\n",
        "place_url = \"https://maps.googleapis.com/maps/api/place/nearbysearch/json\"\n",
        "place_params = {\n",
        "    \"location\": f\"{lat},{lng}\",\n",
        "    \"radius\": 500,\n",
        "    \"type\": \"restaurant\",\n",
        "    \"language\": \"ja\",\n",
        "    \"key\": api_key\n",
        "}\n",
        "place_res = requests.get(place_url, params=place_params)\n",
        "place_data = place_res.json()\n",
        "\n",
        "# 3. 出力\n",
        "print(f\"\\n「{search_word}」周辺のレストラン情報（半径1km）:\")\n",
        "for place in place_data.get(\"results\", []):\n",
        "    name = place.get(\"name\", \"名称なし\")\n",
        "    rating = place.get(\"rating\", \"評価なし\")\n",
        "    address = place.get(\"vicinity\", \"住所不明\")\n",
        "    print(f\"\\n名前: {name}\\n評価: {rating}\\n住所: {address}\")\n"
      ],
      "metadata": {
        "id": "2WEUNZRVFC5o"
      },
      "execution_count": null,
      "outputs": []
    }
  ]
}